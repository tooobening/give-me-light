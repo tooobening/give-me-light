{
 "cells": [
  {
   "cell_type": "code",
   "execution_count": 1,
   "metadata": {},
   "outputs": [],
   "source": [
    "import numpy as np\n",
    "from sklearn.cluster import DBSCAN\n",
    "from sklearn import metrics\n",
    "import math"
   ]
  },
  {
   "cell_type": "code",
   "execution_count": null,
   "metadata": {},
   "outputs": [],
   "source": [
    "#input csv\n",
    "input_file = \"data.csv\"\n",
    "\n",
    "# comma delimited is the default\n",
    "df = pd.read_csv(input_file, header = 0)\n",
    "\n",
    "# put the original column names in a python list\n",
    "original_headers = list(df.columns.values) #['Unnamed: 0', 'description', 'id', 'iser id', 'latitude', 'longitude', 'owner registered location', 'photos count', 'realname', 'tag', 'taken date', 'title', 'url', 'username', 'views']\n",
    "# remove the non-numeric columns\n",
    "# df = df._get_numeric_data() #select columns :['Unnamed: 0', 'id', 'latitude', 'longitude', 'photos count', 'views'] \n",
    "attributes = df[['id','longitude','latitude','views']] # select columns to be part of featu\n",
    "print (type(attributes))\n",
    "print (attributes)"
   ]
  },
  {
   "cell_type": "code",
   "execution_count": null,
   "metadata": {},
   "outputs": [],
   "source": [
    "# Compute DBSCAN\n",
    "model = DBSCAN(eps=1, min_samples=25) #set the radius ~= 100km (eps=1), and there are 5 obvious clusters distributed in the US\n",
    "attributes = df[['longitude','latitude']] # select spatial columns (2) to be part of features\n",
    "db=model.fit(attributes)\n",
    "print(db.labels_) #Cluster labels for each point in the dataset given to fit(). Noisy samples are given the label -1.\n",
    "\n",
    "#Visualise the classifier results\n",
    "plt.figure(figsize=(20,7))# Set the size of the figure\n",
    "colormap = np.array(['#1f77b4', '#ff7f0e', '#2ca02c', '#d62728', '#9467bd', '#8c564b', '#e377c2', '#7f7f7f', '#bcbd22'])# Create a colormap\n",
    "plt.scatter(attributes.longitude, attributes.latitude, c=colormap[db.labels_], s=20)\n",
    "plt.title('DBSCAN Clustering')"
   ]
  }
 ],
 "metadata": {
  "kernelspec": {
   "display_name": "Python 3",
   "language": "python",
   "name": "python3"
  },
  "language_info": {
   "codemirror_mode": {
    "name": "ipython",
    "version": 3
   },
   "file_extension": ".py",
   "mimetype": "text/x-python",
   "name": "python",
   "nbconvert_exporter": "python",
   "pygments_lexer": "ipython3",
   "version": "3.7.6"
  }
 },
 "nbformat": 4,
 "nbformat_minor": 4
}
